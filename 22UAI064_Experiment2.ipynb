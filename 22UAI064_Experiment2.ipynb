{
 "cells": [
  {
   "cell_type": "code",
   "execution_count": 2,
   "metadata": {},
   "outputs": [
    {
     "name": "stdout",
     "output_type": "stream",
     "text": [
      "Word Tokenization Output:\n",
      "['This', 'is', 'an', 'example', 'sentence', 'with', 'stopwords', '.']\n",
      "\n",
      "Sentence Tokenization Output:\n",
      "['This is an example sentence with stopwords.']\n",
      "\n",
      "Filtered Sentence (Stopwords Removed):\n",
      "example sentence stopwords.\n"
     ]
    },
    {
     "name": "stderr",
     "output_type": "stream",
     "text": [
      "[nltk_data] Downloading package punkt to\n",
      "[nltk_data]     C:\\Users\\Admin\\AppData\\Roaming\\nltk_data...\n",
      "[nltk_data]   Package punkt is already up-to-date!\n",
      "[nltk_data] Downloading package stopwords to\n",
      "[nltk_data]     C:\\Users\\Admin\\AppData\\Roaming\\nltk_data...\n",
      "[nltk_data]   Package stopwords is already up-to-date!\n"
     ]
    }
   ],
   "source": [
    "# Step 1: Import necessary libraries\n",
    "import nltk\n",
    "from nltk.corpus import stopwords\n",
    "\n",
    "# Download NLTK resources\n",
    "nltk.download('punkt')  # For tokenization\n",
    "nltk.download('stopwords')  # For stopwords\n",
    "\n",
    "# Step 2: Take input string\n",
    "input_text = \"This is an example sentence with stopwords.\"\n",
    "\n",
    "# Step 3: Apply tokenization (Word Tokenization)\n",
    "word_tokens = nltk.word_tokenize(input_text)\n",
    "print(\"Word Tokenization Output:\")\n",
    "print(word_tokens)\n",
    "\n",
    "# Step 4: Apply tokenization (Sentence Tokenization)\n",
    "sentence_tokens = nltk.sent_tokenize(input_text)\n",
    "print(\"\\nSentence Tokenization Output:\")\n",
    "print(sentence_tokens)\n",
    "\n",
    "# Step 5: Define stop words removal function\n",
    "stop_words = set(stopwords.words('english'))\n",
    "\n",
    "def remove_stop_words(sentence):\n",
    "    # Split the sentence into individual words\n",
    "    words = sentence.split()\n",
    "    # Use a list comprehension to remove stop words\n",
    "    filtered_words = [word for word in words if word.lower() not in stop_words]\n",
    "    # Join the filtered words back into a sentence\n",
    "    return ' '.join(filtered_words)\n",
    "\n",
    "# Step 6: Apply stop word removal process\n",
    "filtered_sentence = remove_stop_words(input_text)\n",
    "print(\"\\nFiltered Sentence (Stopwords Removed):\")\n",
    "print(filtered_sentence)\n"
   ]
  },
  {
   "cell_type": "code",
   "execution_count": null,
   "metadata": {},
   "outputs": [],
   "source": []
  }
 ],
 "metadata": {
  "kernelspec": {
   "display_name": "Python 3",
   "language": "python",
   "name": "python3"
  },
  "language_info": {
   "codemirror_mode": {
    "name": "ipython",
    "version": 3
   },
   "file_extension": ".py",
   "mimetype": "text/x-python",
   "name": "python",
   "nbconvert_exporter": "python",
   "pygments_lexer": "ipython3",
   "version": "3.8.5"
  }
 },
 "nbformat": 4,
 "nbformat_minor": 4
}
